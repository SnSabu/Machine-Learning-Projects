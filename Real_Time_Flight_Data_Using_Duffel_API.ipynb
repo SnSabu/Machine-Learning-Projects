{
  "nbformat": 4,
  "nbformat_minor": 0,
  "metadata": {
    "colab": {
      "provenance": [],
      "include_colab_link": true
    },
    "kernelspec": {
      "name": "python3",
      "display_name": "Python 3"
    },
    "language_info": {
      "name": "python"
    }
  },
  "cells": [
    {
      "cell_type": "markdown",
      "metadata": {
        "id": "view-in-github",
        "colab_type": "text"
      },
      "source": [
        "<a href=\"https://colab.research.google.com/github/SnSabu/Machine-Learning-Projects/blob/main/Real_Time_Flight_Data_Using_Duffel_API.ipynb\" target=\"_parent\"><img src=\"https://colab.research.google.com/assets/colab-badge.svg\" alt=\"Open In Colab\"/></a>"
      ]
    },
    {
      "cell_type": "markdown",
      "source": [
        "# Extracting Real Time Flight Data Using Duffel API\n",
        "\n",
        "\n",
        "\n",
        "> *By Sneha Sabu*\n",
        "\n"
      ],
      "metadata": {
        "id": "XmXh4SMaLAFb"
      }
    },
    {
      "cell_type": "markdown",
      "source": [
        "In this notebook, we will extract flight data such as price, date and duration of different airlines using Duffel API. You will need to create a free account to get the access token used for requesting the prices. For simplicity, a static future travel date is given for which the data will be extracted. The input data contains the origin airport location, destination airport location and date of travel."
      ],
      "metadata": {
        "id": "2AjcTaerNF7f"
      }
    },
    {
      "cell_type": "code",
      "source": [
        "import re\n",
        "import datetime\n",
        "import time\n",
        "import random\n",
        "from duffel_api import Duffel\n",
        "\n",
        "\n",
        "#Getting closest airports to hubs and employees\n",
        "Office_Airports = pd.read_csv(\"Closest_airport_to_hubs.csv\")\n",
        "Emp_Airport = pd.read_csv(\"closest_airports_employees.csv\")\n",
        "\n",
        "\n",
        "hub_airport = pd.concat([Office_Airports['Airport 1'], Office_Airports['Airport 2']])\n",
        "hub_airport = pd.DataFrame(hub_airport, columns=['Destination Airport'])\n",
        "\n",
        "emp_airport = pd.concat([pd.Series(Emp_Airport['Airport 1'].unique()), pd.Series(Emp_Airport['Airport 2'].unique())])\n",
        "emp_airport = pd.DataFrame(emp_airport, columns=['Origin Airport'])\n",
        "\n",
        "\n",
        "hub_airport['key'] = 1\n",
        "emp_airport['key'] = 1\n",
        "airport_combinations = pd.merge(emp_airport, hub_airport, on ='key').drop(\"key\", 1)\n",
        "\n",
        "\n",
        "#Data cleaning\n",
        "airport_combinations = airport_combinations.dropna().reset_index(drop=True)\n",
        "airport_combinations= airport_combinations.drop_duplicates().reset_index(drop=True)\n",
        "#Removing rows with same origin and destination airport location\n",
        "mask = airport_combinations['Origin Airport'] != airport_combinations['Destination Airport']\n",
        "# select only the rows where the mask is True\n",
        "airport_combinations = airport_combinations.loc[mask]\n",
        "\n",
        "airport_combinations['departure_date'] = '2023-03-17'\n",
        "\n",
        "\n",
        "#creating access token with Duffel API Key\n",
        "access_token = 'duffel_test_2d04g-56TplXGi5pPmsg2idnrQxG0VkT-caelLdpFcX'\n",
        "client = Duffel(access_token = access_token)\n",
        "\n",
        "#Calling the Duffel API\n",
        "# Define a function to concatenate the values in each row\n",
        "def airport_prices(row):\n",
        "    destination = row['Destination Airport']\n",
        "    origin = row['Origin Airport']\n",
        "    departure_date = row['departure_date']\n",
        "\n",
        "    slices = [\n",
        "    {\n",
        "        \"origin\": origin,\n",
        "        \"destination\": destination,\n",
        "        \"departure_date\": departure_date,\n",
        "    },\n",
        "    ]\n",
        "    offer_request = (\n",
        "        client.offer_requests.create()\n",
        "        .passengers([{\"type\": \"adult\"}])\n",
        "        .slices(slices)\n",
        "        .return_offers()\n",
        "        .execute()\n",
        "    )\n",
        "    offers = offer_request.offers\n",
        "    #Getting the top airline details\n",
        "        \n",
        "    if offers[0].owner.name == \"Duffel Airways\" and len(offers) > 1 and offers[1] is not None:\n",
        "      i = 1\n",
        "    else:\n",
        "      i = 0\n",
        "    \n",
        "#    while i < len(offers):\n",
        "#        dept_time = offers[i].slices[0].segments[0].departing_at.time()\n",
        "#        if 6 <= dept_time.hour < 21:\n",
        "#            #print(f\"Offer {i} has a departure time between 6AM and 9PM\")            \n",
        "#            break    \n",
        "#        i += 1\n",
        "\n",
        "#    if i >= len(offers):\n",
        "#      i=1\n",
        "\n",
        "    offer = offers[i] \n",
        "\n",
        "    #Extracting the flight duration in minutes\n",
        "    duration_string = offer.slices[0].segments[0].duration\n",
        "        \n",
        "    # Regular expression to match hours and minutes in duration strings\n",
        "    pattern = re.compile(r\"PT(?:(\\d+)H)?(?:(\\d+)M)?\")\n",
        "    match = pattern.match(duration_string)\n",
        "    hours = int(match.group(1)) if match.group(1) else 0\n",
        "    minutes = int(match.group(2)) if match.group(2) else 0\n",
        "    total_minutes =  hours * 60 + minutes\n",
        "    #duration = datetime.timedelta(seconds=datetime.datetime.strptime(duration_string, \"PT%HH%MM\").timestamp())\n",
        "    # Convert the timedelta to minutes and output as a numeric type\n",
        "    #total_minutes = int(duration.total_seconds() // 60)\n",
        "    \n",
        "    #Extracting flight info\n",
        "    flight_price = float(offer.total_amount)\n",
        "    airline = offer.owner.name\n",
        "    departure_time = offers[i].slices[0].segments[0].departing_at.time()\n",
        "    arrival_time = offers[i].slices[0].segments[0].arriving_at.time()\n",
        "    \n",
        "    return total_minutes, flight_price, airline, departure_time, arrival_time\n",
        "\n",
        "#for index, row in airport_combinations.iloc[1059:].iterrows():\n",
        "for index, row in airport_combinations.iterrows():\n",
        "    print(\"This is the air travel details for the row number: {} \".format(index))\n",
        "    airport_combinations.loc[index, ['Duration', 'Price', 'Airlines', 'Departure Time', 'Arrival Time']] = airport_prices(row)\n",
        "    print(row)\n",
        "    \n",
        "\n",
        "# Print the resulting dataframe\n",
        "print(airport_combinations)\n",
        "\n",
        "# Save the DataFrame to a CSV file\n",
        "airport_combinations.to_csv('Flight_Prices_2023_03_17_Any_hr.csv', index=False)\n"
      ],
      "metadata": {
        "id": "xYPW0GMzLGaT"
      },
      "execution_count": null,
      "outputs": []
    }
  ]
}